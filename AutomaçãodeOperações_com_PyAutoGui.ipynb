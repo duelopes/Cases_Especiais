{
 "cells": [
  {
   "cell_type": "markdown",
   "id": "04dd9cfe",
   "metadata": {},
   "source": [
    "# Automatizando com Biblioteca PyAutoGui"
   ]
  },
  {
   "cell_type": "markdown",
   "id": "1eb7fedb",
   "metadata": {},
   "source": [
    "Link da documentação: https://pyautogui.readthedocs.io/en/latest/"
   ]
  },
  {
   "cell_type": "markdown",
   "id": "9153fbbf",
   "metadata": {},
   "source": [
    "*As coordenadas do mouse vai depender da resolução do monitor"
   ]
  },
  {
   "cell_type": "code",
   "execution_count": 3,
   "id": "9ae8a2f0",
   "metadata": {},
   "outputs": [
    {
     "name": "stdout",
     "output_type": "stream",
     "text": [
      "Requirement already satisfied: pyautogui in c:\\users\\eduardo lopes\\anaconda3\\lib\\site-packages (0.9.54)\n",
      "Requirement already satisfied: pymsgbox in c:\\users\\eduardo lopes\\anaconda3\\lib\\site-packages (from pyautogui) (1.0.9)\n",
      "Requirement already satisfied: pyscreeze>=0.1.21 in c:\\users\\eduardo lopes\\anaconda3\\lib\\site-packages (from pyautogui) (0.1.30)\n",
      "Requirement already satisfied: pygetwindow>=0.0.5 in c:\\users\\eduardo lopes\\anaconda3\\lib\\site-packages (from pyautogui) (0.0.9)\n",
      "Requirement already satisfied: pytweening>=1.0.4 in c:\\users\\eduardo lopes\\anaconda3\\lib\\site-packages (from pyautogui) (1.0.7)\n",
      "Requirement already satisfied: mouseinfo in c:\\users\\eduardo lopes\\anaconda3\\lib\\site-packages (from pyautogui) (0.1.3)\n",
      "Requirement already satisfied: pyrect in c:\\users\\eduardo lopes\\anaconda3\\lib\\site-packages (from pygetwindow>=0.0.5->pyautogui) (0.2.0)\n",
      "Requirement already satisfied: Pillow>=9.2.0 in c:\\users\\eduardo lopes\\anaconda3\\lib\\site-packages (from pyscreeze>=0.1.21->pyautogui) (9.2.0)\n",
      "Requirement already satisfied: pyperclip in c:\\users\\eduardo lopes\\anaconda3\\lib\\site-packages (from mouseinfo->pyautogui) (1.8.2)\n"
     ]
    }
   ],
   "source": [
    "# Recomenda-se usar o Jupyter Notebook \n",
    "!pip install pyautogui "
   ]
  },
  {
   "cell_type": "code",
   "execution_count": 4,
   "id": "7e066db3",
   "metadata": {},
   "outputs": [],
   "source": [
    "import pyautogui"
   ]
  },
  {
   "cell_type": "markdown",
   "id": "196c10f7",
   "metadata": {},
   "source": [
    "## 1- Mapeamento das funções básicas"
   ]
  },
  {
   "cell_type": "markdown",
   "id": "199f545f",
   "metadata": {},
   "source": [
    "Descobrindo onde está o mouse:"
   ]
  },
  {
   "cell_type": "code",
   "execution_count": 8,
   "id": "2be5456e",
   "metadata": {},
   "outputs": [
    {
     "data": {
      "text/plain": [
       "Point(x=1919, y=1079)"
      ]
     },
     "execution_count": 8,
     "metadata": {},
     "output_type": "execute_result"
    }
   ],
   "source": [
    "pyautogui.position()"
   ]
  },
  {
   "cell_type": "markdown",
   "id": "b4abd774",
   "metadata": {},
   "source": [
    "Coordenada para abrir uma nova aba:"
   ]
  },
  {
   "cell_type": "code",
   "execution_count": 14,
   "id": "f759396e",
   "metadata": {},
   "outputs": [
    {
     "data": {
      "text/plain": [
       "Point(x=1239, y=22)"
      ]
     },
     "execution_count": 14,
     "metadata": {},
     "output_type": "execute_result"
    }
   ],
   "source": [
    "novaaba = pyautogui.position()\n",
    "novaaba"
   ]
  },
  {
   "cell_type": "markdown",
   "id": "c4b643c7",
   "metadata": {},
   "source": [
    "Largura e altura da tela:"
   ]
  },
  {
   "cell_type": "markdown",
   "id": "74b6967a",
   "metadata": {},
   "source": [
    "pyautogui.size()"
   ]
  },
  {
   "cell_type": "markdown",
   "id": "219d9acc",
   "metadata": {},
   "source": [
    "## 2- Controle de mouse"
   ]
  },
  {
   "cell_type": "markdown",
   "id": "2b40d938",
   "metadata": {},
   "source": [
    "Função para mover o mouse:"
   ]
  },
  {
   "cell_type": "code",
   "execution_count": 42,
   "id": "1414265a",
   "metadata": {},
   "outputs": [],
   "source": [
    "pyautogui.moveTo(novaaba, duration = 5) #Tempo \"duration\" é marcado em segundos"
   ]
  },
  {
   "cell_type": "markdown",
   "id": "d6fc62ab",
   "metadata": {},
   "source": [
    "Para mover uma posição relativa:"
   ]
  },
  {
   "cell_type": "code",
   "execution_count": 16,
   "id": "9328392f",
   "metadata": {},
   "outputs": [],
   "source": [
    "pyautogui.moveRel(100, 200, duration = 5) #+100 no eixo x e +200 na posição y em 5 segundos"
   ]
  },
  {
   "cell_type": "code",
   "execution_count": 17,
   "id": "b9ba2139",
   "metadata": {},
   "outputs": [],
   "source": [
    "pyautogui.moveRel(-100, 50, duration = 5) #-100 no eixo x e +50 na posição y em 5 segundos"
   ]
  },
  {
   "cell_type": "markdown",
   "id": "d587052e",
   "metadata": {},
   "source": [
    "### 2.1 Arrastar o cursor"
   ]
  },
  {
   "cell_type": "code",
   "execution_count": 18,
   "id": "41678a72",
   "metadata": {},
   "outputs": [
    {
     "data": {
      "text/plain": [
       "Point(x=1916, y=765)"
      ]
     },
     "execution_count": 18,
     "metadata": {},
     "output_type": "execute_result"
    }
   ],
   "source": [
    "barra_de_rolagem = pyautogui.position()\n",
    "barra_de_rolagem"
   ]
  },
  {
   "cell_type": "markdown",
   "id": "0dace280",
   "metadata": {},
   "source": [
    "Para subir a barra, eu tirei valores do eixo y e mantive o mouse na barra:"
   ]
  },
  {
   "cell_type": "code",
   "execution_count": 19,
   "id": "07aae508",
   "metadata": {},
   "outputs": [],
   "source": [
    "pyautogui.dragTo(1916, 200, duration = 3)"
   ]
  },
  {
   "cell_type": "markdown",
   "id": "31d1ad6b",
   "metadata": {},
   "source": [
    "Para valores relativos:"
   ]
  },
  {
   "cell_type": "code",
   "execution_count": 26,
   "id": "8222f5c4",
   "metadata": {},
   "outputs": [],
   "source": [
    "pyautogui.dragRel(100, 0, duration = 3) "
   ]
  },
  {
   "cell_type": "markdown",
   "id": "8c75da5e",
   "metadata": {},
   "source": [
    "Aqui ele parte da opções do mouse e avança 100 para a direita, uma das aplicações seria para selecionar algum texto"
   ]
  },
  {
   "cell_type": "markdown",
   "id": "2d2c93ea",
   "metadata": {},
   "source": [
    "### 2.2 Clicar"
   ]
  },
  {
   "cell_type": "markdown",
   "id": "37c8e417",
   "metadata": {},
   "source": [
    "Para usar a função click(), podemos usar os argumentos:\n",
    "\n",
    "pyautogui.click(x=moveToX, y=moveToY, clicks=num_of_clicks, interval=sec_between_clicks, button='left')"
   ]
  },
  {
   "cell_type": "code",
   "execution_count": 28,
   "id": "ef4ba5d5",
   "metadata": {},
   "outputs": [],
   "source": [
    "#Para abrir uma nova aba\n",
    "pyautogui.click(novaaba, clicks=1, button='left')"
   ]
  },
  {
   "cell_type": "markdown",
   "id": "ef54408e",
   "metadata": {},
   "source": [
    "### 2.3 Rolar a página"
   ]
  },
  {
   "cell_type": "code",
   "execution_count": 30,
   "id": "cb628f2a",
   "metadata": {},
   "outputs": [],
   "source": [
    "#Não é muito recomendado, melhor usar o drag, porque em alguns sistemas operacionais pode não fazer sentido\n",
    "pyautogui.scroll(-100, -100)"
   ]
  },
  {
   "cell_type": "markdown",
   "id": "12d7a70a",
   "metadata": {},
   "source": [
    "## 3 - Escrever"
   ]
  },
  {
   "cell_type": "code",
   "execution_count": 32,
   "id": "5b9018bd",
   "metadata": {},
   "outputs": [],
   "source": [
    "pyautogui.typewrite('Texto teste', interval = 1) #Esse comando só realiza a digitação"
   ]
  },
  {
   "cell_type": "markdown",
   "id": "037f6097",
   "metadata": {},
   "source": [
    "Para apertar alguma tecla:"
   ]
  },
  {
   "cell_type": "code",
   "execution_count": null,
   "id": "c5297423",
   "metadata": {},
   "outputs": [],
   "source": [
    "pyautogui.hotkey('enter')"
   ]
  },
  {
   "cell_type": "markdown",
   "id": "7630cdf0",
   "metadata": {},
   "source": [
    "### 3.2 Fazendo teste para abertura aba e digitando outro site:"
   ]
  },
  {
   "cell_type": "code",
   "execution_count": 34,
   "id": "8d3d4e85",
   "metadata": {},
   "outputs": [
    {
     "data": {
      "text/plain": [
       "Point(x=1714, y=18)"
      ]
     },
     "execution_count": 34,
     "metadata": {},
     "output_type": "execute_result"
    }
   ],
   "source": [
    "novaaba = pyautogui.position()\n",
    "novaaba"
   ]
  },
  {
   "cell_type": "code",
   "execution_count": 47,
   "id": "2232f47b",
   "metadata": {},
   "outputs": [],
   "source": [
    "pyautogui.click(novaaba, clicks=1, button='left')\n",
    "pyautogui.write('https://www.linkedin.com/in/duelopes/', interval = 0.1)\n",
    "pyautogui.hotkey('enter')"
   ]
  }
 ],
 "metadata": {
  "kernelspec": {
   "display_name": "Python 3 (ipykernel)",
   "language": "python",
   "name": "python3"
  },
  "language_info": {
   "codemirror_mode": {
    "name": "ipython",
    "version": 3
   },
   "file_extension": ".py",
   "mimetype": "text/x-python",
   "name": "python",
   "nbconvert_exporter": "python",
   "pygments_lexer": "ipython3",
   "version": "3.9.13"
  }
 },
 "nbformat": 4,
 "nbformat_minor": 5
}
